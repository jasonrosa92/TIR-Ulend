{
 "cells": [
  {
   "cell_type": "markdown",
   "id": "7d40167d-19c8-43b4-a352-076a2ed1bea5",
   "metadata": {},
   "source": [
    "* Todo valor de investimento deve entrar como um valor negativo;\n",
    "* Todo valor de parcela deve entrar como um valor positivo;\n",
    "O fluxo de caixa deve estar ordenado por data da movimentação, quando investimento pela data de criação created_at e quando parcela pela data de vencimento due_date;\n",
    "O fluxo de caixa deve ser dia a dia da carteira, iniciando na data do primeiro investimento e finalizando no recebimento da última parcela;\n",
    "Dias que não tem recebimento nem investimento devem ficar com valor 0.0;\n",
    "Em dias que existes mais de uma movimentação os valores devem ser somados;\n"
   ]
  },
  {
   "cell_type": "code",
   "execution_count": null,
   "id": "f607d541-fc1b-48ff-ad60-ffd062499fae",
   "metadata": {},
   "outputs": [],
   "source": [
    "from dataclasses import replace\n",
    "from datetime import datetime\n",
    "from unicodedata import decimal\n",
    "from unittest import result\n",
    "\n",
    "import streamlit as st\n",
    "import pandas as pd\n",
    "import numpy as np\n",
    "\n",
    "from apps.investments import investments\n",
    "from apps.installments import installments\n"
   ]
  },
  {
   "cell_type": "code",
   "execution_count": null,
   "id": "4a05e2a6-a74c-4666-b77a-750750293c6c",
   "metadata": {},
   "outputs": [],
   "source": [
    "cashflow = {}"
   ]
  },
  {
   "cell_type": "code",
   "execution_count": null,
   "id": "375325a3-2c94-428e-9736-3293fb0b40ee",
   "metadata": {},
   "outputs": [],
   "source": [
    "df_investments = pd.DataFrame(investments)"
   ]
  },
  {
   "cell_type": "code",
   "execution_count": null,
   "id": "824b31bd-1a3a-452f-93ec-1106ee9f13f1",
   "metadata": {},
   "outputs": [],
   "source": [
    "df_installments = pd.DataFrame(installments)"
   ]
  },
  {
   "cell_type": "code",
   "execution_count": null,
   "id": "968e3d4c-33bb-4bce-8b20-bb0cc21a1bd7",
   "metadata": {},
   "outputs": [],
   "source": [
    "def negative_amount(valor): return -(int(valor.replace('.','')))"
   ]
  },
  {
   "cell_type": "code",
   "execution_count": null,
   "id": "fbc2636a-1532-486b-bd55-cd3030ca0820",
   "metadata": {},
   "outputs": [],
   "source": [
    "def positive_amount(valor): return int(valor.replace('.',''))"
   ]
  },
  {
   "cell_type": "code",
   "execution_count": null,
   "id": "062d1fef-acb6-4be8-af4e-e1c07b04a842",
   "metadata": {},
   "outputs": [],
   "source": [
    "df_investments['amount'] = df_investments['amount'].apply(lambda a: negative_amount(a))"
   ]
  },
  {
   "cell_type": "code",
   "execution_count": null,
   "id": "2b4a84d4-de33-48fd-820c-f18f63ad1134",
   "metadata": {},
   "outputs": [],
   "source": [
    "df_installments['amount'] = df_installments['amount'].apply(lambda a: positive_amount(a))"
   ]
  },
  {
   "cell_type": "code",
   "execution_count": null,
   "id": "6c938e35-ebb5-4003-8835-959db3bfe89a",
   "metadata": {},
   "outputs": [],
   "source": [
    "df_investments.created_at = pd.to_datetime(df_investments.created_at, format=\"%Y-%m-%d\")"
   ]
  },
  {
   "cell_type": "code",
   "execution_count": null,
   "id": "146f7cc8-8e67-45e4-9ea1-fe7bde643059",
   "metadata": {},
   "outputs": [],
   "source": [
    "df_installments.due_date = pd.to_datetime(df_installments.due_date, format=\"%Y-%m-%d\")"
   ]
  },
  {
   "cell_type": "code",
   "execution_count": null,
   "id": "e685fb88-5819-4fec-ad94-b8c772fec867",
   "metadata": {},
   "outputs": [],
   "source": [
    "df_installments.dtypes"
   ]
  },
  {
   "cell_type": "code",
   "execution_count": null,
   "id": "505633ec-6641-41cd-a361-123339027c66",
   "metadata": {},
   "outputs": [],
   "source": [
    "df_investments.loc[df_investments.created_at.dt.year == 2019]"
   ]
  },
  {
   "cell_type": "code",
   "execution_count": null,
   "id": "07345036-ef0a-4f89-9be7-1db84d687b4e",
   "metadata": {},
   "outputs": [],
   "source": [
    "df_investments"
   ]
  },
  {
   "cell_type": "code",
   "execution_count": null,
   "id": "35c9a913-bdd6-4b27-b42f-00a7c382ae73",
   "metadata": {},
   "outputs": [],
   "source": [
    "df_installments"
   ]
  },
  {
   "cell_type": "code",
   "execution_count": null,
   "id": "79549833-81d9-439a-a15f-44c830a15981",
   "metadata": {},
   "outputs": [],
   "source": [
    "df = pd.concat([df_investments,df_installments],keys=['created_at', 'due_date'])\n"
   ]
  },
  {
   "cell_type": "code",
   "execution_count": null,
   "id": "a63341e2-cc33-467a-b2e9-12c868d1dd11",
   "metadata": {},
   "outputs": [],
   "source": [
    "df"
   ]
  },
  {
   "cell_type": "code",
   "execution_count": null,
   "id": "a25b1661-9497-412d-b5f9-29625572d98d",
   "metadata": {},
   "outputs": [],
   "source": [
    "duplicados = df_installments.duplicated(['due_date'])"
   ]
  },
  {
   "cell_type": "code",
   "execution_count": null,
   "id": "659cd564-52a4-4f4d-9f71-04e7c1440100",
   "metadata": {},
   "outputs": [],
   "source": [
    "duplicados.value_counts()"
   ]
  },
  {
   "cell_type": "code",
   "execution_count": null,
   "id": "d8ead7a9-2e3c-4ee0-942e-5234187eb2d1",
   "metadata": {},
   "outputs": [],
   "source": []
  },
  {
   "cell_type": "code",
   "execution_count": null,
   "id": "38602011-1402-4438-a44f-c66d1a3113ad",
   "metadata": {},
   "outputs": [],
   "source": [
    "duplicados.sum()\n"
   ]
  },
  {
   "cell_type": "code",
   "execution_count": null,
   "id": "86f5c198-b172-47d3-9fe4-33f9761b49a7",
   "metadata": {},
   "outputs": [],
   "source": [
    "for duplicado in duplicados:\n",
    "    if ['investment_id'] == ['id']"
   ]
  },
  {
   "cell_type": "code",
   "execution_count": 20,
   "id": "d927bb1c-eb45-4614-b418-747ed1f34b6e",
   "metadata": {},
   "outputs": [],
   "source": [
    "df_investments"
   ]
  },
  {
   "cell_type": "code",
   "execution_count": null,
   "id": "7a5d02f0-1c59-46a4-8cfe-66323eca9e97",
   "metadata": {},
   "outputs": [],
   "source": []
  }
 ],
 "metadata": {
  "kernelspec": {
   "display_name": "Python 3 (ipykernel)",
   "language": "python",
   "name": "python3"
  },
  "language_info": {
   "codemirror_mode": {
    "name": "ipython",
    "version": 3
   },
   "file_extension": ".py",
   "mimetype": "text/x-python",
   "name": "python",
   "nbconvert_exporter": "python",
   "pygments_lexer": "ipython3",
   "version": "3.8.10"
  }
 },
 "nbformat": 4,
 "nbformat_minor": 5
}
